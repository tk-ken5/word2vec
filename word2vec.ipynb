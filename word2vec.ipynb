{
 "cells": [
  {
   "cell_type": "code",
   "execution_count": 10,
   "metadata": {},
   "outputs": [
    {
     "name": "stdout",
     "output_type": "stream",
     "text": [
      "[('猫', 0.8777391910552979), ('ゾウ', 0.8764073848724365), ('ネコ', 0.8675180673599243), ('飼い', 0.859927773475647), ('ネズミ', 0.8569595813751221), ('ウサギ', 0.8568403720855713), ('クマ', 0.823607325553894), ('キツネ', 0.8190327882766724), ('子犬', 0.8158493041992188), ('野良猫', 0.8121331334114075)]\n",
      "\n",
      "0.689895095251\n"
     ]
    }
   ],
   "source": [
    "'''\n",
    "Wikipedia日本語版をコーパスとして学習したword2vecモデル(白ヤギコーポレーション作)を使用\n",
    "'''\n",
    "\n",
    "from gensim.models.word2vec import Word2Vec\n",
    "\n",
    "#学習したモデルを指定\n",
    "model_path = './word2vec.gensim.model'\n",
    "model = Word2Vec.load(model_path)\n",
    "\n",
    "#指定した単語の類似度の高い単語を10個出力する\n",
    "most_similar=model.most_similar('犬')\n",
    "print(most_similar)\n",
    "print()\n",
    "\n",
    "#指定した2つの単語の類似度を計算する\n",
    "similarity=model.similarity(\"犬\",\"チワワ\")\n",
    "print(similarity)"
   ]
  },
  {
   "cell_type": "code",
   "execution_count": null,
   "metadata": {
    "collapsed": true
   },
   "outputs": [],
   "source": []
  }
 ],
 "metadata": {
  "kernelspec": {
   "display_name": "Python 3",
   "language": "python",
   "name": "python3"
  },
  "language_info": {
   "codemirror_mode": {
    "name": "ipython",
    "version": 3
   },
   "file_extension": ".py",
   "mimetype": "text/x-python",
   "name": "python",
   "nbconvert_exporter": "python",
   "pygments_lexer": "ipython3",
   "version": "3.6.1"
  }
 },
 "nbformat": 4,
 "nbformat_minor": 2
}
